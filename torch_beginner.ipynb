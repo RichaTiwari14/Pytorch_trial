{
  "nbformat": 4,
  "nbformat_minor": 0,
  "metadata": {
    "colab": {
      "provenance": [],
      "gpuType": "T4",
      "authorship_tag": "ABX9TyM1fnEBBUcwzwCGY55cdKsA",
      "include_colab_link": true
    },
    "kernelspec": {
      "name": "python3",
      "display_name": "Python 3"
    },
    "language_info": {
      "name": "python"
    },
    "accelerator": "GPU"
  },
  "cells": [
    {
      "cell_type": "markdown",
      "metadata": {
        "id": "view-in-github",
        "colab_type": "text"
      },
      "source": [
        "<a href=\"https://colab.research.google.com/github/RichaTiwari14/Pytorch_trial/blob/main/torch_beginner.ipynb\" target=\"_parent\"><img src=\"https://colab.research.google.com/assets/colab-badge.svg\" alt=\"Open In Colab\"/></a>"
      ]
    },
    {
      "cell_type": "code",
      "execution_count": 3,
      "metadata": {
        "colab": {
          "base_uri": "https://localhost:8080/"
        },
        "id": "D7lhx7K_CmgF",
        "outputId": "3f859048-1e7b-403b-b397-ee0f828cc73d"
      },
      "outputs": [
        {
          "output_type": "stream",
          "name": "stdout",
          "text": [
            "2.6.0+cu124\n",
            "GPA available\n",
            "Tesla T4\n"
          ]
        }
      ],
      "source": [
        "import torch\n",
        "import torch as nn\n",
        "print(torch.__version__)\n",
        "if torch.cuda.is_available():\n",
        "  print(\"GPA available\")\n",
        "  print(torch.cuda.get_device_name())\n",
        "else:\n",
        "  print(\"GPU not available\")\n",
        "\n"
      ]
    },
    {
      "cell_type": "code",
      "source": [
        "#empty() doesn't assign any value only allocates memory to the dimension and returns values already existing in that memory\n",
        "print(\"Empty():\",torch.empty(2,3))\n",
        "\n",
        "#type()\n",
        "a=torch.rand(2,3)\n",
        "type(a) #returns type of the variable\n",
        "\n",
        "#ones() assigns value 1 to the memory\n",
        "torch.ones(2,2)\n",
        "\n",
        "#zeros() assigns value 0 to the memory\n",
        "torch.zeros(2,2)\n",
        "\n",
        "#rand() assigns random values to the memory\n",
        "torch.rand(2,2)\n",
        "\n",
        "#manual_seed()   used to generate same random values....just use this rand() with the same manual_seed()\n",
        "torch.manual_seed(100)\n",
        "print(torch.rand(2,3))\n",
        "\n",
        "#tensor() to direct assign the given values\n",
        "torch.tensor([[2,3,4],[1.2,3.2,0.2]])\n",
        "\n",
        "#arange() works same as range, give the initial and final(x-1) and step (i,f,s)value and it will return the values falling in between\n",
        "torch.arange(0,10,2)\n",
        "\n",
        "#linspace()\n",
        "torch.linspace(0,10,10)\n",
        "\n",
        "#eye() sets the dimension\n",
        "torch.eye(10)\n",
        "\n",
        "#full() first set dimension in bracket then value to assign in that memory\n",
        "torch.full((3,3),5)\n",
        "\n",
        "#shape()\n",
        "(torch.tensor([[1,2,3],[1.2,3.2,6.2]])).shape\n",
        "\n",
        "#OR\n",
        "\n",
        "x=torch.tensor([[1,2,3],[1.2,3.2,6.2]])\n",
        "x.shape\n",
        "\n",
        "#empty_like() will generate empty() method value in the same dimension as x\n",
        "torch.empty_like(x)\n",
        "\n",
        "#zeros_like()\n",
        "torch.zeros_like(x)\n",
        "\n",
        "#ones_like()\n",
        "torch.ones_like(x)\n",
        "\n",
        "#rand_like()  won't work as the rest of methods generate int value whereas rand genrates floats between 0-1\n",
        "\n",
        "#dtype() to know the data type\n",
        "x.dtype\n",
        "\n",
        "a=torch.tensor([1.2,2.3,3.4],dtype=torch.int32) #converting the given tensor into int\n",
        "torch.tensor([2,3,4],dtype=torch.float64) # converting the given tensor into float\n",
        "\n",
        "x.to(torch.int32) #converting the already existing tensor into another   eg.float to int\n",
        "torch.rand_like(a,dtype=torch.float32) #\n",
        "\n",
        "#ceil()\n",
        "torch.ceil(a) #it gives nearest greater integer\n",
        "\n",
        "#floor()\n",
        "torch.floor(a) #it gives nearest smaller integer\n",
        "\n",
        "print(a+2) #adddition\n",
        "print(a-2) #subtraction\n",
        "print(a*2)  #multiplication\n",
        "print(a/2) #division ( returns float value)\n",
        "print(a//2) #floor division (returns integer value)\n",
        "print(a**2) #power\n",
        "print(torch.abs(a))  #returns absolute value\n",
        "print(torch.neg(a)) #returns negative value\n",
        "print(torch.round(a)) #returns round figure\n",
        "print(torch.clamp(a, min=2,max=5))  #returns value with min and max limit set\n",
        "z=torch.randint(size=(2,3),low=3,high=10) #returns random integer values having limit set low, high\n",
        "print(z)\n",
        "print(torch.sum(z,dim=0)) #make sum of values of columns compressing it to the given dimension\n",
        "print(torch.sum(z,dim=1))\n",
        "\n",
        "\n"
      ],
      "metadata": {
        "colab": {
          "base_uri": "https://localhost:8080/"
        },
        "id": "miTUV78SUGBn",
        "outputId": "d4518e6f-c81e-48df-f698-eb3ce47823e3"
      },
      "execution_count": 37,
      "outputs": [
        {
          "output_type": "stream",
          "name": "stdout",
          "text": [
            "Empty(): tensor([[1.1030e-21, 4.4364e-41, 2.3090e-33],\n",
            "        [0.0000e+00, 2.1716e-33, 0.0000e+00]])\n",
            "tensor([[0.1117, 0.8158, 0.2626],\n",
            "        [0.4839, 0.6765, 0.7539]])\n",
            "tensor([3, 4, 5], dtype=torch.int32)\n",
            "tensor([-1,  0,  1], dtype=torch.int32)\n",
            "tensor([2, 4, 6], dtype=torch.int32)\n",
            "tensor([0.5000, 1.0000, 1.5000])\n",
            "tensor([0, 1, 1], dtype=torch.int32)\n",
            "tensor([1, 4, 9], dtype=torch.int32)\n",
            "tensor([1, 2, 3], dtype=torch.int32)\n",
            "tensor([-1, -2, -3], dtype=torch.int32)\n",
            "tensor([1, 2, 3], dtype=torch.int32)\n",
            "tensor([2, 2, 3], dtype=torch.int32)\n",
            "tensor([[6, 7, 8],\n",
            "        [8, 7, 5]])\n",
            "tensor([14, 14, 13])\n",
            "tensor([21, 20])\n"
          ]
        }
      ]
    }
  ]
}